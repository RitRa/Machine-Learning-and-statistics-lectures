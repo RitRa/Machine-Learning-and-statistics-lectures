{
 "cells": [
  {
   "cell_type": "markdown",
   "metadata": {},
   "source": [
    "### Goal: predict a dog's lifespan using keras\n"
   ]
  },
  {
   "cell_type": "code",
   "execution_count": 1,
   "metadata": {},
   "outputs": [
    {
     "name": "stderr",
     "output_type": "stream",
     "text": [
      "Using TensorFlow backend.\n"
     ]
    }
   ],
   "source": [
    "import keras as kr\n",
    "import pandas as pd\n",
    "import numpy as np\n",
    "import matplotlib.pyplot as plt"
   ]
  },
  {
   "cell_type": "code",
   "execution_count": 2,
   "metadata": {},
   "outputs": [],
   "source": [
    "df = pd.read_csv(\"datasets/dogs.csv\")"
   ]
  },
  {
   "cell_type": "code",
   "execution_count": 3,
   "metadata": {},
   "outputs": [
    {
     "data": {
      "text/html": [
       "<div>\n",
       "<style scoped>\n",
       "    .dataframe tbody tr th:only-of-type {\n",
       "        vertical-align: middle;\n",
       "    }\n",
       "\n",
       "    .dataframe tbody tr th {\n",
       "        vertical-align: top;\n",
       "    }\n",
       "\n",
       "    .dataframe thead th {\n",
       "        text-align: right;\n",
       "    }\n",
       "</style>\n",
       "<table border=\"1\" class=\"dataframe\">\n",
       "  <thead>\n",
       "    <tr style=\"text-align: right;\">\n",
       "      <th></th>\n",
       "      <th>pure</th>\n",
       "      <th>age</th>\n",
       "      <th>weight</th>\n",
       "      <th>height</th>\n",
       "      <th>lifespan</th>\n",
       "    </tr>\n",
       "  </thead>\n",
       "  <tbody>\n",
       "    <tr>\n",
       "      <td>0</td>\n",
       "      <td>True</td>\n",
       "      <td>3</td>\n",
       "      <td>7.94</td>\n",
       "      <td>49.6</td>\n",
       "      <td>15</td>\n",
       "    </tr>\n",
       "    <tr>\n",
       "      <td>1</td>\n",
       "      <td>True</td>\n",
       "      <td>7</td>\n",
       "      <td>5.05</td>\n",
       "      <td>63.5</td>\n",
       "      <td>17</td>\n",
       "    </tr>\n",
       "    <tr>\n",
       "      <td>2</td>\n",
       "      <td>True</td>\n",
       "      <td>6</td>\n",
       "      <td>16.15</td>\n",
       "      <td>68.2</td>\n",
       "      <td>11</td>\n",
       "    </tr>\n",
       "    <tr>\n",
       "      <td>3</td>\n",
       "      <td>False</td>\n",
       "      <td>3</td>\n",
       "      <td>15.50</td>\n",
       "      <td>64.7</td>\n",
       "      <td>12</td>\n",
       "    </tr>\n",
       "    <tr>\n",
       "      <td>4</td>\n",
       "      <td>False</td>\n",
       "      <td>3</td>\n",
       "      <td>12.17</td>\n",
       "      <td>59.7</td>\n",
       "      <td>14</td>\n",
       "    </tr>\n",
       "  </tbody>\n",
       "</table>\n",
       "</div>"
      ],
      "text/plain": [
       "    pure  age  weight  height  lifespan\n",
       "0   True    3    7.94    49.6        15\n",
       "1   True    7    5.05    63.5        17\n",
       "2   True    6   16.15    68.2        11\n",
       "3  False    3   15.50    64.7        12\n",
       "4  False    3   12.17    59.7        14"
      ]
     },
     "execution_count": 3,
     "metadata": {},
     "output_type": "execute_result"
    }
   ],
   "source": [
    "df.head()"
   ]
  },
  {
   "cell_type": "code",
   "execution_count": 4,
   "metadata": {},
   "outputs": [
    {
     "data": {
      "text/html": [
       "<div>\n",
       "<style scoped>\n",
       "    .dataframe tbody tr th:only-of-type {\n",
       "        vertical-align: middle;\n",
       "    }\n",
       "\n",
       "    .dataframe tbody tr th {\n",
       "        vertical-align: top;\n",
       "    }\n",
       "\n",
       "    .dataframe thead th {\n",
       "        text-align: right;\n",
       "    }\n",
       "</style>\n",
       "<table border=\"1\" class=\"dataframe\">\n",
       "  <thead>\n",
       "    <tr style=\"text-align: right;\">\n",
       "      <th></th>\n",
       "      <th>pure</th>\n",
       "      <th>age</th>\n",
       "      <th>weight</th>\n",
       "      <th>height</th>\n",
       "      <th>lifespan</th>\n",
       "      <th>ispure</th>\n",
       "      <th>isnotpure</th>\n",
       "    </tr>\n",
       "  </thead>\n",
       "  <tbody>\n",
       "    <tr>\n",
       "      <td>0</td>\n",
       "      <td>True</td>\n",
       "      <td>3</td>\n",
       "      <td>7.94</td>\n",
       "      <td>49.6</td>\n",
       "      <td>15</td>\n",
       "      <td>1</td>\n",
       "      <td>0</td>\n",
       "    </tr>\n",
       "    <tr>\n",
       "      <td>1</td>\n",
       "      <td>True</td>\n",
       "      <td>7</td>\n",
       "      <td>5.05</td>\n",
       "      <td>63.5</td>\n",
       "      <td>17</td>\n",
       "      <td>1</td>\n",
       "      <td>0</td>\n",
       "    </tr>\n",
       "    <tr>\n",
       "      <td>2</td>\n",
       "      <td>True</td>\n",
       "      <td>6</td>\n",
       "      <td>16.15</td>\n",
       "      <td>68.2</td>\n",
       "      <td>11</td>\n",
       "      <td>1</td>\n",
       "      <td>0</td>\n",
       "    </tr>\n",
       "    <tr>\n",
       "      <td>3</td>\n",
       "      <td>False</td>\n",
       "      <td>3</td>\n",
       "      <td>15.50</td>\n",
       "      <td>64.7</td>\n",
       "      <td>12</td>\n",
       "      <td>0</td>\n",
       "      <td>1</td>\n",
       "    </tr>\n",
       "    <tr>\n",
       "      <td>4</td>\n",
       "      <td>False</td>\n",
       "      <td>3</td>\n",
       "      <td>12.17</td>\n",
       "      <td>59.7</td>\n",
       "      <td>14</td>\n",
       "      <td>0</td>\n",
       "      <td>1</td>\n",
       "    </tr>\n",
       "    <tr>\n",
       "      <td>...</td>\n",
       "      <td>...</td>\n",
       "      <td>...</td>\n",
       "      <td>...</td>\n",
       "      <td>...</td>\n",
       "      <td>...</td>\n",
       "      <td>...</td>\n",
       "      <td>...</td>\n",
       "    </tr>\n",
       "    <tr>\n",
       "      <td>95</td>\n",
       "      <td>False</td>\n",
       "      <td>4</td>\n",
       "      <td>20.76</td>\n",
       "      <td>52.2</td>\n",
       "      <td>10</td>\n",
       "      <td>0</td>\n",
       "      <td>1</td>\n",
       "    </tr>\n",
       "    <tr>\n",
       "      <td>96</td>\n",
       "      <td>False</td>\n",
       "      <td>4</td>\n",
       "      <td>17.40</td>\n",
       "      <td>47.5</td>\n",
       "      <td>11</td>\n",
       "      <td>0</td>\n",
       "      <td>1</td>\n",
       "    </tr>\n",
       "    <tr>\n",
       "      <td>97</td>\n",
       "      <td>False</td>\n",
       "      <td>6</td>\n",
       "      <td>15.60</td>\n",
       "      <td>51.4</td>\n",
       "      <td>12</td>\n",
       "      <td>0</td>\n",
       "      <td>1</td>\n",
       "    </tr>\n",
       "    <tr>\n",
       "      <td>98</td>\n",
       "      <td>False</td>\n",
       "      <td>3</td>\n",
       "      <td>8.37</td>\n",
       "      <td>54.1</td>\n",
       "      <td>16</td>\n",
       "      <td>0</td>\n",
       "      <td>1</td>\n",
       "    </tr>\n",
       "    <tr>\n",
       "      <td>99</td>\n",
       "      <td>True</td>\n",
       "      <td>7</td>\n",
       "      <td>9.09</td>\n",
       "      <td>50.3</td>\n",
       "      <td>14</td>\n",
       "      <td>1</td>\n",
       "      <td>0</td>\n",
       "    </tr>\n",
       "  </tbody>\n",
       "</table>\n",
       "<p>100 rows × 7 columns</p>\n",
       "</div>"
      ],
      "text/plain": [
       "     pure  age  weight  height  lifespan  ispure  isnotpure\n",
       "0    True    3    7.94    49.6        15       1          0\n",
       "1    True    7    5.05    63.5        17       1          0\n",
       "2    True    6   16.15    68.2        11       1          0\n",
       "3   False    3   15.50    64.7        12       0          1\n",
       "4   False    3   12.17    59.7        14       0          1\n",
       "..    ...  ...     ...     ...       ...     ...        ...\n",
       "95  False    4   20.76    52.2        10       0          1\n",
       "96  False    4   17.40    47.5        11       0          1\n",
       "97  False    6   15.60    51.4        12       0          1\n",
       "98  False    3    8.37    54.1        16       0          1\n",
       "99   True    7    9.09    50.3        14       1          0\n",
       "\n",
       "[100 rows x 7 columns]"
      ]
     },
     "execution_count": 4,
     "metadata": {},
     "output_type": "execute_result"
    }
   ],
   "source": [
    "# pure needs to be in number form, it has two categories which we can represent as 1 and 0\n",
    "df['ispure'] =(df['pure'] == True).astype(np.int)\n",
    "df['isnotpure'] = (df['pure'] == False).astype(np.int)\n",
    "df"
   ]
  },
  {
   "cell_type": "code",
   "execution_count": 5,
   "metadata": {},
   "outputs": [
    {
     "data": {
      "text/html": [
       "<div>\n",
       "<style scoped>\n",
       "    .dataframe tbody tr th:only-of-type {\n",
       "        vertical-align: middle;\n",
       "    }\n",
       "\n",
       "    .dataframe tbody tr th {\n",
       "        vertical-align: top;\n",
       "    }\n",
       "\n",
       "    .dataframe thead th {\n",
       "        text-align: right;\n",
       "    }\n",
       "</style>\n",
       "<table border=\"1\" class=\"dataframe\">\n",
       "  <thead>\n",
       "    <tr style=\"text-align: right;\">\n",
       "      <th></th>\n",
       "      <th>age</th>\n",
       "      <th>weight</th>\n",
       "      <th>height</th>\n",
       "      <th>ispure</th>\n",
       "      <th>isnotpure</th>\n",
       "    </tr>\n",
       "  </thead>\n",
       "  <tbody>\n",
       "    <tr>\n",
       "      <td>0</td>\n",
       "      <td>3</td>\n",
       "      <td>7.94</td>\n",
       "      <td>49.6</td>\n",
       "      <td>1</td>\n",
       "      <td>0</td>\n",
       "    </tr>\n",
       "    <tr>\n",
       "      <td>1</td>\n",
       "      <td>7</td>\n",
       "      <td>5.05</td>\n",
       "      <td>63.5</td>\n",
       "      <td>1</td>\n",
       "      <td>0</td>\n",
       "    </tr>\n",
       "    <tr>\n",
       "      <td>2</td>\n",
       "      <td>6</td>\n",
       "      <td>16.15</td>\n",
       "      <td>68.2</td>\n",
       "      <td>1</td>\n",
       "      <td>0</td>\n",
       "    </tr>\n",
       "    <tr>\n",
       "      <td>3</td>\n",
       "      <td>3</td>\n",
       "      <td>15.50</td>\n",
       "      <td>64.7</td>\n",
       "      <td>0</td>\n",
       "      <td>1</td>\n",
       "    </tr>\n",
       "    <tr>\n",
       "      <td>4</td>\n",
       "      <td>3</td>\n",
       "      <td>12.17</td>\n",
       "      <td>59.7</td>\n",
       "      <td>0</td>\n",
       "      <td>1</td>\n",
       "    </tr>\n",
       "    <tr>\n",
       "      <td>...</td>\n",
       "      <td>...</td>\n",
       "      <td>...</td>\n",
       "      <td>...</td>\n",
       "      <td>...</td>\n",
       "      <td>...</td>\n",
       "    </tr>\n",
       "    <tr>\n",
       "      <td>95</td>\n",
       "      <td>4</td>\n",
       "      <td>20.76</td>\n",
       "      <td>52.2</td>\n",
       "      <td>0</td>\n",
       "      <td>1</td>\n",
       "    </tr>\n",
       "    <tr>\n",
       "      <td>96</td>\n",
       "      <td>4</td>\n",
       "      <td>17.40</td>\n",
       "      <td>47.5</td>\n",
       "      <td>0</td>\n",
       "      <td>1</td>\n",
       "    </tr>\n",
       "    <tr>\n",
       "      <td>97</td>\n",
       "      <td>6</td>\n",
       "      <td>15.60</td>\n",
       "      <td>51.4</td>\n",
       "      <td>0</td>\n",
       "      <td>1</td>\n",
       "    </tr>\n",
       "    <tr>\n",
       "      <td>98</td>\n",
       "      <td>3</td>\n",
       "      <td>8.37</td>\n",
       "      <td>54.1</td>\n",
       "      <td>0</td>\n",
       "      <td>1</td>\n",
       "    </tr>\n",
       "    <tr>\n",
       "      <td>99</td>\n",
       "      <td>7</td>\n",
       "      <td>9.09</td>\n",
       "      <td>50.3</td>\n",
       "      <td>1</td>\n",
       "      <td>0</td>\n",
       "    </tr>\n",
       "  </tbody>\n",
       "</table>\n",
       "<p>100 rows × 5 columns</p>\n",
       "</div>"
      ],
      "text/plain": [
       "    age  weight  height  ispure  isnotpure\n",
       "0     3    7.94    49.6       1          0\n",
       "1     7    5.05    63.5       1          0\n",
       "2     6   16.15    68.2       1          0\n",
       "3     3   15.50    64.7       0          1\n",
       "4     3   12.17    59.7       0          1\n",
       "..  ...     ...     ...     ...        ...\n",
       "95    4   20.76    52.2       0          1\n",
       "96    4   17.40    47.5       0          1\n",
       "97    6   15.60    51.4       0          1\n",
       "98    3    8.37    54.1       0          1\n",
       "99    7    9.09    50.3       1          0\n",
       "\n",
       "[100 rows x 5 columns]"
      ]
     },
     "execution_count": 5,
     "metadata": {},
     "output_type": "execute_result"
    }
   ],
   "source": [
    "inputs = df[['age', 'weight', 'height', 'ispure', 'isnotpure']]\n",
    "inputs"
   ]
  },
  {
   "cell_type": "code",
   "execution_count": 6,
   "metadata": {},
   "outputs": [
    {
     "data": {
      "text/plain": [
       "0     15\n",
       "1     17\n",
       "2     11\n",
       "3     12\n",
       "4     14\n",
       "      ..\n",
       "95    10\n",
       "96    11\n",
       "97    12\n",
       "98    16\n",
       "99    14\n",
       "Name: lifespan, Length: 100, dtype: int64"
      ]
     },
     "execution_count": 6,
     "metadata": {},
     "output_type": "execute_result"
    }
   ],
   "source": [
    "output = df['lifespan']\n",
    "output"
   ]
  },
  {
   "cell_type": "code",
   "execution_count": 7,
   "metadata": {},
   "outputs": [],
   "source": [
    "# Create a new neural network.\n",
    "m = kr.models.Sequential()"
   ]
  },
  {
   "cell_type": "code",
   "execution_count": 8,
   "metadata": {},
   "outputs": [],
   "source": [
    "# Add neurons.\n",
    "# input dim = number of inputs\n",
    "m.add(kr.layers.Dense(10, input_dim=5, activation=\"linear\"))\n",
    "m.add(kr.layers.Dense(30, activation=\"sigmoid\"))\n",
    "m.add(kr.layers.Dense(10, activation=\"linear\"))\n",
    "m.add(kr.layers.Dense(10, activation=\"linear\"))\n",
    "#how many outputs?\n",
    "m.add(kr.layers.Dense(1, activation='linear'))\n",
    "\n",
    "# Compile the model.\n",
    "m.compile(loss=\"mean_squared_error\", optimizer=\"adam\")"
   ]
  },
  {
   "cell_type": "code",
   "execution_count": 9,
   "metadata": {},
   "outputs": [
    {
     "name": "stdout",
     "output_type": "stream",
     "text": [
      "Epoch 1/30\n",
      "100/100 [==============================] - 2s 16ms/step - loss: 161.2301\n",
      "Epoch 2/30\n",
      "100/100 [==============================] - 0s 472us/step - loss: 136.9557\n",
      "Epoch 3/30\n",
      "100/100 [==============================] - 0s 506us/step - loss: 116.8980\n",
      "Epoch 4/30\n",
      "100/100 [==============================] - 0s 459us/step - loss: 97.7804\n",
      "Epoch 5/30\n",
      "100/100 [==============================] - 0s 448us/step - loss: 78.7767\n",
      "Epoch 6/30\n",
      "100/100 [==============================] - 0s 515us/step - loss: 57.1157\n",
      "Epoch 7/30\n",
      "100/100 [==============================] - 0s 422us/step - loss: 35.4692\n",
      "Epoch 8/30\n",
      "100/100 [==============================] - 0s 400us/step - loss: 19.4750\n",
      "Epoch 9/30\n",
      "100/100 [==============================] - 0s 389us/step - loss: 10.3359\n",
      "Epoch 10/30\n",
      "100/100 [==============================] - 0s 354us/step - loss: 6.8489\n",
      "Epoch 11/30\n",
      "100/100 [==============================] - 0s 424us/step - loss: 6.0371\n",
      "Epoch 12/30\n",
      "100/100 [==============================] - 0s 424us/step - loss: 6.0129\n",
      "Epoch 13/30\n",
      "100/100 [==============================] - 0s 403us/step - loss: 5.8622\n",
      "Epoch 14/30\n",
      "100/100 [==============================] - 0s 454us/step - loss: 5.5161\n",
      "Epoch 15/30\n",
      "100/100 [==============================] - 0s 486us/step - loss: 5.1198\n",
      "Epoch 16/30\n",
      "100/100 [==============================] - 0s 420us/step - loss: 4.8686\n",
      "Epoch 17/30\n",
      "100/100 [==============================] - 0s 431us/step - loss: 4.5824\n",
      "Epoch 18/30\n",
      "100/100 [==============================] - 0s 418us/step - loss: 4.3232\n",
      "Epoch 19/30\n",
      "100/100 [==============================] - 0s 396us/step - loss: 3.8661\n",
      "Epoch 20/30\n",
      "100/100 [==============================] - 0s 415us/step - loss: 3.4514\n",
      "Epoch 21/30\n",
      "100/100 [==============================] - 0s 389us/step - loss: 3.0870\n",
      "Epoch 22/30\n",
      "100/100 [==============================] - 0s 416us/step - loss: 2.7854\n",
      "Epoch 23/30\n",
      "100/100 [==============================] - 0s 487us/step - loss: 2.6114\n",
      "Epoch 24/30\n",
      "100/100 [==============================] - 0s 470us/step - loss: 2.4586\n",
      "Epoch 25/30\n",
      "100/100 [==============================] - 0s 429us/step - loss: 2.3939\n",
      "Epoch 26/30\n",
      "100/100 [==============================] - 0s 435us/step - loss: 2.2315\n",
      "Epoch 27/30\n",
      "100/100 [==============================] - 0s 450us/step - loss: 2.1070\n",
      "Epoch 28/30\n",
      "100/100 [==============================] - 0s 460us/step - loss: 2.0473\n",
      "Epoch 29/30\n",
      "100/100 [==============================] - 0s 408us/step - loss: 1.9107\n",
      "Epoch 30/30\n",
      "100/100 [==============================] - 0s 423us/step - loss: 1.8536\n"
     ]
    },
    {
     "data": {
      "text/plain": [
       "<keras.callbacks.callbacks.History at 0x641f28e50>"
      ]
     },
     "execution_count": 9,
     "metadata": {},
     "output_type": "execute_result"
    }
   ],
   "source": [
    "# Train the model.\n",
    "#m.fit(x, y, epochs=30, batch_size=10)\n",
    "# Train the model.\n",
    "m.fit(inputs, output, epochs=30, batch_size=10)"
   ]
  },
  {
   "cell_type": "code",
   "execution_count": 10,
   "metadata": {
    "scrolled": true
   },
   "outputs": [
    {
     "data": {
      "text/plain": [
       "array([[14.656704 ],\n",
       "       [15.50997  ],\n",
       "       [12.854504 ],\n",
       "       [13.067181 ],\n",
       "       [14.123203 ],\n",
       "       [10.872667 ],\n",
       "       [14.096693 ],\n",
       "       [11.508738 ],\n",
       "       [12.49553  ],\n",
       "       [11.139748 ],\n",
       "       [12.072212 ],\n",
       "       [15.434155 ],\n",
       "       [10.893358 ],\n",
       "       [14.289583 ],\n",
       "       [11.8361225],\n",
       "       [12.46642  ],\n",
       "       [14.473355 ],\n",
       "       [11.520792 ],\n",
       "       [10.952726 ],\n",
       "       [11.05611  ],\n",
       "       [11.171043 ],\n",
       "       [11.051335 ],\n",
       "       [14.143314 ],\n",
       "       [11.14422  ],\n",
       "       [11.549162 ],\n",
       "       [13.7312355],\n",
       "       [13.15967  ],\n",
       "       [11.502008 ],\n",
       "       [14.411267 ],\n",
       "       [10.969564 ],\n",
       "       [11.007578 ],\n",
       "       [11.013482 ],\n",
       "       [11.071908 ],\n",
       "       [15.414855 ],\n",
       "       [10.802841 ],\n",
       "       [11.659561 ],\n",
       "       [15.14487  ],\n",
       "       [12.731653 ],\n",
       "       [11.462846 ],\n",
       "       [11.803913 ],\n",
       "       [11.561444 ],\n",
       "       [13.565385 ],\n",
       "       [10.904856 ],\n",
       "       [13.534622 ],\n",
       "       [13.297699 ],\n",
       "       [11.83841  ],\n",
       "       [13.435844 ],\n",
       "       [10.959835 ],\n",
       "       [13.027351 ],\n",
       "       [11.425926 ],\n",
       "       [13.918219 ],\n",
       "       [11.162929 ],\n",
       "       [10.882157 ],\n",
       "       [11.320187 ],\n",
       "       [11.246948 ],\n",
       "       [11.596827 ],\n",
       "       [11.308718 ],\n",
       "       [13.988567 ],\n",
       "       [11.073381 ],\n",
       "       [10.963856 ],\n",
       "       [10.960293 ],\n",
       "       [13.020729 ],\n",
       "       [12.484262 ],\n",
       "       [15.195465 ],\n",
       "       [12.941677 ],\n",
       "       [14.198471 ],\n",
       "       [ 8.349318 ],\n",
       "       [11.898682 ],\n",
       "       [12.8237   ],\n",
       "       [11.652874 ],\n",
       "       [11.173776 ],\n",
       "       [14.786186 ],\n",
       "       [11.278191 ],\n",
       "       [12.05852  ],\n",
       "       [10.764324 ],\n",
       "       [15.333142 ],\n",
       "       [11.625854 ],\n",
       "       [13.991569 ],\n",
       "       [11.1771755],\n",
       "       [10.887399 ],\n",
       "       [10.818848 ],\n",
       "       [13.284864 ],\n",
       "       [15.455059 ],\n",
       "       [10.853794 ],\n",
       "       [14.907809 ],\n",
       "       [14.107014 ],\n",
       "       [10.92359  ],\n",
       "       [14.68956  ],\n",
       "       [11.376773 ],\n",
       "       [11.398036 ],\n",
       "       [14.969807 ],\n",
       "       [13.931459 ],\n",
       "       [10.958148 ],\n",
       "       [12.997034 ],\n",
       "       [12.92868  ],\n",
       "       [10.9598675],\n",
       "       [11.1654   ],\n",
       "       [11.772462 ],\n",
       "       [14.962921 ],\n",
       "       [14.209924 ]], dtype=float32)"
      ]
     },
     "execution_count": 10,
     "metadata": {},
     "output_type": "execute_result"
    }
   ],
   "source": [
    "m.predict(inputs)"
   ]
  },
  {
   "cell_type": "code",
   "execution_count": 11,
   "metadata": {},
   "outputs": [
    {
     "data": {
      "text/plain": [
       "array([[15., 16., 13., 13., 14., 11., 14., 12., 12., 11., 12., 15., 11.,\n",
       "        14., 12., 12., 14., 12., 11., 11., 11., 11., 14., 11., 12., 14.,\n",
       "        13., 12., 14., 11., 11., 11., 11., 15., 11., 12., 15., 13., 11.,\n",
       "        12., 12., 14., 11., 14., 13., 12., 13., 11., 13., 11., 14., 11.,\n",
       "        11., 11., 11., 12., 11., 14., 11., 11., 11., 13., 12., 15., 13.,\n",
       "        14.,  8., 12., 13., 12., 11., 15., 11., 12., 11., 15., 12., 14.,\n",
       "        11., 11., 11., 13., 15., 11., 15., 14., 11., 15., 11., 11., 15.,\n",
       "        14., 11., 13., 13., 11., 11., 12., 15., 14.]], dtype=float32)"
      ]
     },
     "execution_count": 11,
     "metadata": {},
     "output_type": "execute_result"
    }
   ],
   "source": [
    "np.around(m.predict(inputs).T)"
   ]
  },
  {
   "cell_type": "code",
   "execution_count": 12,
   "metadata": {
    "scrolled": true
   },
   "outputs": [
    {
     "name": "stderr",
     "output_type": "stream",
     "text": [
      "/usr/local/anaconda3/lib/python3.7/site-packages/ipykernel_launcher.py:1: FutureWarning: Method .as_matrix will be removed in a future version. Use .values instead.\n",
      "  \"\"\"Entry point for launching an IPython kernel.\n"
     ]
    },
    {
     "data": {
      "text/plain": [
       "array([15, 17, 11, 12, 14, 12, 15, 11, 13, 10, 12, 17, 10, 14, 12, 11, 16,\n",
       "       12, 11, 10, 12, 11, 15, 11, 11, 14, 15, 11, 17, 10, 10, 11, 11, 19,\n",
       "        8, 13, 16, 14, 10, 12, 12, 14, 10, 13, 14, 11, 15, 10, 15, 12, 13,\n",
       "       12, 10, 11, 10, 11, 10, 14, 10, 11, 11, 11, 13, 19, 14, 14,  8, 12,\n",
       "       11, 11, 11, 16, 13, 12, 12, 18, 12, 16, 11,  8,  8, 12, 18,  9, 16,\n",
       "       13,  9, 16,  9, 11, 16, 13,  8, 14, 15, 10, 11, 12, 16, 14])"
      ]
     },
     "execution_count": 12,
     "metadata": {},
     "output_type": "execute_result"
    }
   ],
   "source": [
    "output.as_matrix()"
   ]
  },
  {
   "cell_type": "code",
   "execution_count": 13,
   "metadata": {},
   "outputs": [
    {
     "name": "stderr",
     "output_type": "stream",
     "text": [
      "/usr/local/anaconda3/lib/python3.7/site-packages/ipykernel_launcher.py:2: FutureWarning: Method .as_matrix will be removed in a future version. Use .values instead.\n",
      "  \n"
     ]
    },
    {
     "data": {
      "text/plain": [
       "array([[-0.34329605, -1.49003029,  1.85450363,  1.06718063,  0.12320328,\n",
       "        -1.12733269, -0.90330696,  0.50873756, -0.50446987,  1.13974762,\n",
       "         0.07221222, -1.56584454,  0.89335823,  0.28958321, -0.16387749,\n",
       "         1.46642017, -1.52664471, -0.47920799, -0.04727364,  1.05611038,\n",
       "        -0.8289566 ,  0.05133533, -0.85668564,  0.14422035,  0.54916191,\n",
       "        -0.2687645 , -1.84033012,  0.50200844, -2.58873272,  0.96956444,\n",
       "         1.0075779 ,  0.01348209,  0.071908  , -3.585145  ,  2.80284119,\n",
       "        -1.34043884, -0.8551302 , -1.26834679,  1.4628458 , -0.19608688,\n",
       "        -0.43855572, -0.43461514,  0.90485573,  0.53462219, -0.70230103,\n",
       "         0.83841038, -1.56415558,  0.95983505, -1.97264862, -0.57407379,\n",
       "         0.91821861, -0.83707142,  0.88215733,  0.32018661,  1.24694824,\n",
       "         0.59682655,  1.30871773, -0.01143265,  1.07338142, -0.03614426,\n",
       "        -0.03970718,  2.02072906, -0.51573753, -3.80453491, -1.05832291,\n",
       "         0.19847107,  0.34931755, -0.10131836,  1.82369995,  0.65287399,\n",
       "         0.17377567, -1.21381378, -1.72180939,  0.05852032, -1.23567581,\n",
       "        -2.66685772, -0.37414646, -2.00843143,  0.17717552,  2.88739872,\n",
       "         2.81884766,  1.28486443, -2.54494095,  1.8537941 , -1.09219074,\n",
       "         1.1070137 ,  1.92358971, -1.31044006,  2.37677288,  0.398036  ,\n",
       "        -1.03019333,  0.93145943,  2.958148  , -1.00296593, -2.07131958,\n",
       "         0.95986748,  0.16539955, -0.22753811, -1.03707886,  0.20992374]])"
      ]
     },
     "execution_count": 13,
     "metadata": {},
     "output_type": "execute_result"
    }
   ],
   "source": [
    "# differences \n",
    "m.predict(inputs).T - output.as_matrix()"
   ]
  },
  {
   "cell_type": "code",
   "execution_count": 14,
   "metadata": {},
   "outputs": [
    {
     "name": "stderr",
     "output_type": "stream",
     "text": [
      "/usr/local/anaconda3/lib/python3.7/site-packages/ipykernel_launcher.py:3: FutureWarning: Method .as_matrix will be removed in a future version. Use .values instead.\n",
      "  This is separate from the ipykernel package so we can avoid doing imports until\n"
     ]
    },
    {
     "data": {
      "text/plain": [
       "13.394486853939673"
      ]
     },
     "execution_count": 14,
     "metadata": {},
     "output_type": "execute_result"
    }
   ],
   "source": [
    "# mean squared error\n",
    "# see how well you neuron network is doing\n",
    "np.sqrt(np.sum((m.predict(inputs).T - output.as_matrix())**2))"
   ]
  },
  {
   "cell_type": "code",
   "execution_count": null,
   "metadata": {},
   "outputs": [],
   "source": [
    "#x = inputs\n",
    "#y = output\n",
    "\n",
    "# Run each x value through the neural network.\n",
    "p = m.predict(x)\n",
    "\n",
    "# Plot the values.\n",
    "plt.plot(inputs, p, 'r-', label='Prediction')\n",
    "plt.plot(inputs, y, 'k:', label='Original')\n",
    "plt.legend()"
   ]
  },
  {
   "cell_type": "code",
   "execution_count": null,
   "metadata": {},
   "outputs": [],
   "source": []
  },
  {
   "cell_type": "code",
   "execution_count": null,
   "metadata": {},
   "outputs": [],
   "source": []
  },
  {
   "cell_type": "code",
   "execution_count": null,
   "metadata": {},
   "outputs": [],
   "source": []
  }
 ],
 "metadata": {
  "kernelspec": {
   "display_name": "Python 3",
   "language": "python",
   "name": "python3"
  },
  "language_info": {
   "codemirror_mode": {
    "name": "ipython",
    "version": 3
   },
   "file_extension": ".py",
   "mimetype": "text/x-python",
   "name": "python",
   "nbconvert_exporter": "python",
   "pygments_lexer": "ipython3",
   "version": "3.7.4"
  }
 },
 "nbformat": 4,
 "nbformat_minor": 2
}
