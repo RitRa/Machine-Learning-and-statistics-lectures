{
 "cells": [
  {
   "cell_type": "markdown",
   "metadata": {},
   "source": [
    "Reference https://www.programiz.com/python-programming/object-oriented-programming"
   ]
  },
  {
   "cell_type": "code",
   "execution_count": 8,
   "metadata": {},
   "outputs": [
    {
     "name": "stdout",
     "output_type": "stream",
     "text": [
      "Rita is a female\n",
      "Rachel is also a female\n",
      "Rita is 33 years old\n",
      "Rachel is 34 years old\n"
     ]
    }
   ],
   "source": [
    "# defie class Person\n",
    "class Person:\n",
    "    \n",
    "    # class attribute\n",
    "    sex = \"female\"\n",
    "    \n",
    "    # instance attributes\n",
    "    def __init__(self, name, age):\n",
    "        self.name = name\n",
    "        self.age = age\n",
    "\n",
    "        \n",
    "# instantiate the Person class\n",
    "rita =  Person(\"Rita\", 33)\n",
    "rachel = Person(\"Rachel\", 34)\n",
    "\n",
    "# access the class attributes\n",
    "print(\"Rita is a {}\".format(rita.__class__.sex))\n",
    "print(\"Rachel is also a {}\".format(rachel.__class__.sex))\n",
    "\n",
    "# access the instance attributes\n",
    "print(\"{} is {} years old\".format( rita.name, rita.age))\n",
    "print(\"{} is {} years old\".format( rachel.name, rachel.age))"
   ]
  },
  {
   "cell_type": "code",
   "execution_count": null,
   "metadata": {},
   "outputs": [],
   "source": []
  }
 ],
 "metadata": {
  "kernelspec": {
   "display_name": "Python 3",
   "language": "python",
   "name": "python3"
  },
  "language_info": {
   "codemirror_mode": {
    "name": "ipython",
    "version": 3
   },
   "file_extension": ".py",
   "mimetype": "text/x-python",
   "name": "python",
   "nbconvert_exporter": "python",
   "pygments_lexer": "ipython3",
   "version": "3.7.3"
  }
 },
 "nbformat": 4,
 "nbformat_minor": 2
}
